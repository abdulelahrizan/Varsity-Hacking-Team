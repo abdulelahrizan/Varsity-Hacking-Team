{
  "nbformat": 4,
  "nbformat_minor": 0,
  "metadata": {
    "colab": {
      "name": "Tokenizer_test.ipynb",
      "provenance": [],
      "include_colab_link": true
    },
    "kernelspec": {
      "name": "python3",
      "display_name": "Python 3"
    }
  },
  "cells": [
    {
      "cell_type": "markdown",
      "metadata": {
        "id": "view-in-github",
        "colab_type": "text"
      },
      "source": [
        "<a href=\"https://colab.research.google.com/github/DavidAltrows/NLP/blob/NLP-Tools/Tokenizer_test.ipynb\" target=\"_parent\"><img src=\"https://colab.research.google.com/assets/colab-badge.svg\" alt=\"Open In Colab\"/></a>"
      ]
    },
    {
      "cell_type": "code",
      "metadata": {
        "id": "_MYHtcuvGBte",
        "colab_type": "code",
        "outputId": "b9b2997d-1ad9-4e7d-b38f-a910003bf005",
        "colab": {
          "base_uri": "https://localhost:8080/",
          "height": 176
        }
      },
      "source": [
        "from tensorflow.keras.preprocessing.text import Tokenizer\n",
        "from tensorflow.keras.preprocessing.sequence import pad_sequences\n",
        "\n",
        "sentences = ['i love my dog', 'i love my cat', 'you love my dog', 'do you think my dog is amazing?']\n",
        "\n",
        "tokenizer = Tokenizer(num_words = 100, oov_token=\"<OOV>\")\n",
        "tokenizer.fit_on_texts(sentences)\n",
        "word_index = tokenizer.word_index\n",
        "\n",
        "print(word_index)\n",
        "sequences = tokenizer.texts_to_sequences(sentences)\n",
        "\n",
        "padded = pad_sequences(sequences,maxlen=5)\n",
        "\n",
        "print(padded)\n",
        "\n",
        "fresh_data = [\"I am my dog\", \"my cat loves my dog\"]\n",
        "\n",
        "# Notice no refitting of tokenizer\n",
        "\n",
        "sequences = tokenizer.texts_to_sequences(fresh_data)\n",
        "padded = pad_sequences(sequences,maxlen=5)\n",
        "print(\"\")\n",
        "print(padded)\n",
        "\n",
        "\n"
      ],
      "execution_count": 10,
      "outputs": [
        {
          "output_type": "stream",
          "text": [
            "{'<OOV>': 1, 'my': 2, 'love': 3, 'dog': 4, 'i': 5, 'you': 6, 'cat': 7, 'do': 8, 'think': 9, 'is': 10, 'amazing': 11}\n",
            "[[ 0  5  3  2  4]\n",
            " [ 0  5  3  2  7]\n",
            " [ 0  6  3  2  4]\n",
            " [ 9  2  4 10 11]]\n",
            "\n",
            "[[0 5 1 2 4]\n",
            " [2 7 1 2 4]]\n"
          ],
          "name": "stdout"
        }
      ]
    }
  ]
}